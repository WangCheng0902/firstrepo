{
 "cells": [
  {
   "cell_type": "code",
   "execution_count": 1,
   "metadata": {},
   "outputs": [
    {
     "name": "stdout",
     "output_type": "stream",
     "text": [
      "f(x) = 4.0\n"
     ]
    }
   ],
   "source": [
    "'''\n",
    "分段函数求值\n",
    "\n",
    "        3x - 5  (x > 1)\n",
    "f(x) =  x + 2   (-1 <= x <= 1)\n",
    "        5x + 3  (x < -1)\n",
    "\n",
    "Version: 0.1\n",
    "Author: 王成\n",
    "'''\n",
    "\n",
    "def func(x):\n",
    "    if x > 1:\n",
    "        return 3 * x - 5\n",
    "    elif x >= -1:\n",
    "        return x + 2\n",
    "    else:\n",
    "        return 5 * x + 3\n",
    "    \n",
    "if __name__ == '__main__':\n",
    "    x = float(input('x = '))\n",
    "    print('f(x) =', func(x))"
   ]
  }
 ],
 "metadata": {
  "kernelspec": {
   "display_name": "pyvenv",
   "language": "python",
   "name": "python3"
  },
  "language_info": {
   "codemirror_mode": {
    "name": "ipython",
    "version": 3
   },
   "file_extension": ".py",
   "mimetype": "text/x-python",
   "name": "python",
   "nbconvert_exporter": "python",
   "pygments_lexer": "ipython3",
   "version": "3.13.0"
  }
 },
 "nbformat": 4,
 "nbformat_minor": 2
}
