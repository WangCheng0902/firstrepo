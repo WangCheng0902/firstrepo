{
 "cells": [
  {
   "cell_type": "markdown",
   "metadata": {},
   "source": [
    "# 一、循环语句\n",
    "## 1、循环控制语句\n",
    "|循环控制语句|描述|\n",
    "|------|------|\n",
    "|break|在语句块执行过程中终止循环，并且跳出整个循环|\n",
    "|continue|在语句块执行过程中终止当前循环，跳出该次循环，执行下一次循环|\n",
    "|pass|pass 是空语句，是为了保持程序结构的完整性|\n",
    "## 2、for 循环语句"
   ]
  },
  {
   "cell_type": "code",
   "execution_count": 1,
   "metadata": {},
   "outputs": [
    {
     "name": "stdout",
     "output_type": "stream",
     "text": [
      "H\n",
      "e\n",
      "l\n",
      "l\n",
      "o\n",
      "两\n",
      "点\n",
      "水\n",
      "\n",
      "\n",
      "一点水\n",
      "两点水\n",
      "三点水\n"
     ]
    }
   ],
   "source": [
    "for letter in 'Hello两点水':\n",
    "    print(letter)\n",
    "\n",
    "print('\\n')\n",
    "\n",
    "dict = {'一点水':'小学生','两点水':'中学生','三点水':'大学生'}\n",
    "for i in dict:\n",
    "    print(i)"
   ]
  },
  {
   "cell_type": "markdown",
   "metadata": {},
   "source": [
    "## 3、 range() 函数 ##\n",
    "使用 range(x) 函数，就可以生成一个从 0 到 x-1 的整数序列。\n",
    "\n",
    "如果是 `range(a,b)`  函数，你可以生成了一个左闭右开的整数序列。\n",
    "\n",
    "比如  `range(0,10,2) ` , 它的意思是：从 0 数到 10（不取 10 ），每次间隔为 2 。"
   ]
  },
  {
   "cell_type": "code",
   "execution_count": 2,
   "metadata": {},
   "outputs": [
    {
     "name": "stdout",
     "output_type": "stream",
     "text": [
      "0\n",
      "1\n",
      "2\n",
      "\n",
      "\n",
      "1\n",
      "2\n",
      "\n",
      "\n",
      "0\n",
      "2\n",
      "4\n",
      "6\n",
      "8\n"
     ]
    }
   ],
   "source": [
    "for i in range(3):\n",
    "    print(i)\n",
    "\n",
    "print('\\n')\n",
    "\n",
    "for j in range(1,3):\n",
    "    print(j)\n",
    "\n",
    "print('\\n')\n",
    "\n",
    "for k in range(0,10,2):\n",
    "    print(k)"
   ]
  },
  {
   "cell_type": "markdown",
   "metadata": {},
   "source": [
    "## 4、While循环语句"
   ]
  },
  {
   "cell_type": "code",
   "execution_count": null,
   "metadata": {},
   "outputs": [],
   "source": [
    "count1 = 1\n",
    "sum1 = 0\n",
    "\n",
    "while count1 <= 100:\n",
    "    sum1 = sum1 + count1\n",
    "    count1 = count1 + 1\n",
    "\n",
    "print(sum1)"
   ]
  },
  {
   "cell_type": "markdown",
   "metadata": {},
   "source": [
    "## 5、for 循环和 whlie 循环的区别\n",
    "- for 循环主要用在迭代可迭代对象的情况。\n",
    "- while 循环主要用在需要满足一定条件为真，反复执行的情况。 （死循环+break 退出等情况。）"
   ]
  },
  {
   "cell_type": "code",
   "execution_count": 3,
   "metadata": {},
   "outputs": [
    {
     "name": "stdout",
     "output_type": "stream",
     "text": [
      "0\n",
      "1\n",
      "2\n",
      "3\n",
      "4\n",
      "5\n",
      "6\n",
      "7\n",
      "8\n",
      "9\n",
      "\n",
      "\n",
      "0\n",
      "1\n",
      "2\n",
      "3\n",
      "4\n",
      "5\n",
      "6\n",
      "7\n",
      "8\n",
      "9\n"
     ]
    }
   ],
   "source": [
    "for i in range(0, 10):\n",
    "    print(i)\n",
    "\n",
    "print('\\n')\n",
    "\n",
    "i = 0\n",
    "while i < 10:\n",
    "    print(i)\n",
    "    i = i + 1"
   ]
  },
  {
   "cell_type": "code",
   "execution_count": null,
   "metadata": {},
   "outputs": [],
   "source": [
    "count = 1\n",
    "sum = 0\n",
    "\n",
    "while count <= 100:\n",
    "    sum = sum +count\n",
    "    if (sum > 1000):\n",
    "        break\n",
    "    count = count + 1\n",
    "\n",
    "print(sum)"
   ]
  },
  {
   "cell_type": "code",
   "execution_count": 4,
   "metadata": {},
   "outputs": [
    {
     "name": "stdout",
     "output_type": "stream",
     "text": [
      "10 是一个合数\n",
      "11 是一个质数\n",
      "12 是一个合数\n",
      "13 是一个质数\n",
      "14 是一个合数\n",
      "15 是一个合数\n",
      "16 是一个合数\n",
      "17 是一个质数\n",
      "18 是一个合数\n",
      "19 是一个质数\n"
     ]
    }
   ],
   "source": [
    "for num in range(10,20):  # 迭代 10 到 20 之间的数字\n",
    "   for i in range(2,num): # 根据因子迭代\n",
    "      if num%i == 0:      # 确定第一个因子\n",
    "         j=num/i          # 计算第二个因子\n",
    "         print ('%d 是一个合数' % num)\n",
    "         break            # 跳出当前循环\n",
    "   else:                  # 循环的 else 部分\n",
    "      print ('%d 是一个质数' % num)"
   ]
  },
  {
   "cell_type": "markdown",
   "metadata": {},
   "source": [
    "# 二、条件语句\n",
    "上面也说到，非零数值、非空字符串、非空 list 等，判断为 True，否则为 False。因此也可以这样写："
   ]
  },
  {
   "cell_type": "code",
   "execution_count": 5,
   "metadata": {},
   "outputs": [
    {
     "name": "stdout",
     "output_type": "stream",
     "text": [
      "Hello Python\n"
     ]
    }
   ],
   "source": [
    "num = 6\n",
    "if num :\n",
    "    print('Hello Python')\n",
    "\n",
    "num1 = ''\n",
    "if num1 :\n",
    "    print('hello python')"
   ]
  },
  {
   "cell_type": "code",
   "execution_count": 6,
   "metadata": {},
   "outputs": [
    {
     "name": "stdout",
     "output_type": "stream",
     "text": [
      "良好\n"
     ]
    }
   ],
   "source": [
    "# -*-coding:utf-8-*-\n",
    "\n",
    "results = 89\n",
    "\n",
    "if results > 90:\n",
    "    print('优秀')\n",
    "elif results > 80:\n",
    "    print('良好')\n",
    "elif results > 60:\n",
    "    print ('及格')\n",
    "else :\n",
    "    print ('不及格')\n"
   ]
  },
  {
   "cell_type": "code",
   "execution_count": 7,
   "metadata": {},
   "outputs": [
    {
     "name": "stdout",
     "output_type": "stream",
     "text": [
      "不优秀\n",
      "良好\n"
     ]
    }
   ],
   "source": [
    "# -*-coding:utf-8-*-\n",
    "\n",
    "java = 86\n",
    "python = 68\n",
    "\n",
    "if java > 80 and  python > 80:\n",
    "    print('优秀')\n",
    "else :\n",
    "    print('不优秀')\n",
    "\n",
    "if ( java >= 80  and java < 90 )  or ( python >= 80 and python < 90):\n",
    "    print('良好')\n"
   ]
  },
  {
   "cell_type": "markdown",
   "metadata": {},
   "source": [
    "# 三、条件循环综合示例\n",
    "## 1、打印九九乘法口诀"
   ]
  },
  {
   "cell_type": "code",
   "execution_count": 8,
   "metadata": {},
   "outputs": [
    {
     "name": "stdout",
     "output_type": "stream",
     "text": [
      "1x1=1\t\n",
      "2x1=2\t2x2=4\t\n",
      "3x1=3\t3x2=6\t3x3=9\t\n",
      "4x1=4\t4x2=8\t4x3=12\t4x4=16\t\n",
      "5x1=5\t5x2=10\t5x3=15\t5x4=20\t5x5=25\t\n",
      "6x1=6\t6x2=12\t6x3=18\t6x4=24\t6x5=30\t6x6=36\t\n",
      "7x1=7\t7x2=14\t7x3=21\t7x4=28\t7x5=35\t7x6=42\t7x7=49\t\n",
      "8x1=8\t8x2=16\t8x3=24\t8x4=32\t8x5=40\t8x6=48\t8x7=56\t8x8=64\t\n",
      "9x1=9\t9x2=18\t9x3=27\t9x4=36\t9x5=45\t9x6=54\t9x7=63\t9x8=72\t9x9=81\t\n"
     ]
    }
   ],
   "source": [
    "# -*- coding: UTF-8 -*-\n",
    "\n",
    "# 打印九九乘法表\n",
    "for i in range(1, 10):\n",
    "        for j in range(1, i+1):\n",
    "            # 打印语句中，大括号及其里面的字符 (称作格式化字段) 将会被 .format() 中的参数替换,注意有个点的\n",
    "            print('{}x{}={}\\t'.format(i, j, i*j), end='')  \n",
    "        print()"
   ]
  },
  {
   "cell_type": "markdown",
   "metadata": {},
   "source": [
    "## 2、判断是否是闰年"
   ]
  },
  {
   "cell_type": "code",
   "execution_count": 1,
   "metadata": {},
   "outputs": [
    {
     "name": "stdout",
     "output_type": "stream",
     "text": [
      "3068 是闰年\n"
     ]
    }
   ],
   "source": [
    "# -*- coding: UTF-8 -*-\n",
    "\n",
    "# 判断是否是闰年\n",
    "\n",
    "year = int(input(\"请输入一个年份: \"))\n",
    "if (year % 4) == 0 and (year % 100) != 0 or (year % 400) == 0:\n",
    "    print('{0} 是闰年' .format(year))\n",
    "else:\n",
    "     print('{0} 不是闰年' .format(year))\n"
   ]
  }
 ],
 "metadata": {
  "kernelspec": {
   "display_name": "test_env",
   "language": "python",
   "name": "python3"
  },
  "language_info": {
   "codemirror_mode": {
    "name": "ipython",
    "version": 3
   },
   "file_extension": ".py",
   "mimetype": "text/x-python",
   "name": "python",
   "nbconvert_exporter": "python",
   "pygments_lexer": "ipython3",
   "version": "3.13.0"
  }
 },
 "nbformat": 4,
 "nbformat_minor": 2
}
