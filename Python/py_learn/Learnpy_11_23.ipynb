{
 "cells": [
  {
   "cell_type": "markdown",
   "metadata": {},
   "source": [
    "# 一、python自定义函数\n",
    "```python\n",
    "def 函数名(参数1,参数2,...,参数n):\n",
    "    函数体\n",
    "    return 语句\n",
    "```"
   ]
  },
  {
   "cell_type": "code",
   "execution_count": 10,
   "metadata": {},
   "outputs": [
    {
     "name": "stdout",
     "output_type": "stream",
     "text": [
      "11\n"
     ]
    }
   ],
   "source": [
    "# -*-coding:utf-8-*-\n",
    "\n",
    "def sum(num1,num2):\n",
    "    \"两数之和\"\n",
    "    return num1+num2\n",
    "\n",
    "print(sum(5,6))\n",
    "\n"
   ]
  },
  {
   "cell_type": "markdown",
   "metadata": {},
   "source": [
    "# 二、函数返回值\n",
    "- Python 一次接受多个返回值的数据类型就是元组。"
   ]
  },
  {
   "cell_type": "code",
   "execution_count": 11,
   "metadata": {},
   "outputs": [
    {
     "name": "stdout",
     "output_type": "stream",
     "text": [
      "(6, 1)\n"
     ]
    }
   ],
   "source": [
    "# -*- coding: UTF-8 -*-\n",
    "\n",
    "def sum(num1,num2):\n",
    "\t# 两数之和\n",
    "\tif not (isinstance (num1,(int ,float)) and isinstance (num2,(int ,float))):\n",
    "\t\traise TypeError('参数类型错误')\n",
    "\treturn num1+num2,num1\n",
    "\n",
    "print(sum(1,5))"
   ]
  },
  {
   "cell_type": "code",
   "execution_count": 12,
   "metadata": {},
   "outputs": [
    {
     "name": "stdout",
     "output_type": "stream",
     "text": [
      "2.0 1\n",
      "(2.0, 1)\n"
     ]
    }
   ],
   "source": [
    "# -*- coding: UTF-8 -*-\n",
    "\n",
    "def  division ( num1, num2 ):\n",
    "\t# 求商与余数\n",
    "         a = num1 % num2\n",
    "         b = (num1-a) / num2\n",
    "         return b , a\n",
    "\n",
    "num1 , num2 = division(9,4)\n",
    "tuple1 = division(9,4)\n",
    "\n",
    "print (num1,num2)\n",
    "print (tuple1)"
   ]
  },
  {
   "cell_type": "markdown",
   "metadata": {},
   "source": [
    "# 三、函数的参数\n",
    "主要的参数类型有：默认参数、关键字参数（位置参数）、不定长参数。\n",
    "## 1、默认参数\n",
    "**默认参数**，只要在构造函数参数的时候，给参数赋值就可以了"
   ]
  },
  {
   "cell_type": "code",
   "execution_count": 14,
   "metadata": {},
   "outputs": [
    {
     "name": "stdout",
     "output_type": "stream",
     "text": [
      "名字：两点水 年龄：18 性别：女\n",
      "名字：三点水 年龄：25 性别：男\n"
     ]
    }
   ],
   "source": [
    "def print_user_info(name,age,sex ='男'):\n",
    "    print('名字：{}'.format(name),end =' ')\n",
    "    print('年龄：{}'.format(age),end =' ')\n",
    "    print('性别：{}'.format(sex))\n",
    "\n",
    "# 调用 print_user_info 函数\n",
    "print_user_info( '两点水' , 18 , '女')\n",
    "print_user_info( '三点水' , 25 )"
   ]
  },
  {
   "cell_type": "markdown",
   "metadata": {},
   "source": [
    "- 只有在形参表末尾的那些参数可以有默认参数值，默认参数的值是不可变的对象，比如None、True、False、数字或字符串"
   ]
  },
  {
   "cell_type": "code",
   "execution_count": 15,
   "metadata": {},
   "outputs": [
    {
     "name": "stdout",
     "output_type": "stream",
     "text": [
      "[]\n",
      "['error']\n"
     ]
    },
    {
     "data": {
      "text/plain": [
       "['error']"
      ]
     },
     "execution_count": 15,
     "metadata": {},
     "output_type": "execute_result"
    }
   ],
   "source": [
    "# -*- coding: UTF-8 -*-\n",
    "\n",
    "def print_info( a , b = [] ):\n",
    "    print(b)\n",
    "    return b ;\n",
    "\n",
    "result = print_info(1)\n",
    "\n",
    "result.append('error')\n",
    "\n",
    "print_info(2)"
   ]
  },
  {
   "cell_type": "markdown",
   "metadata": {},
   "source": [
    "## 2、关键字参数（位置参数）\n",
    "- 使用关键字参数，不用顾虑传参是参数的顺序"
   ]
  },
  {
   "cell_type": "code",
   "execution_count": 16,
   "metadata": {},
   "outputs": [
    {
     "name": "stdout",
     "output_type": "stream",
     "text": [
      "昵称：两点水 年龄：18 性别：女\n",
      "昵称：两点水 年龄：18 性别：女\n"
     ]
    }
   ],
   "source": [
    "# -*- coding: UTF-8 -*-\n",
    "\n",
    "def print_user_info( name ,  age  , sex = '男' ):\n",
    "    # 打印用户信息\n",
    "    print('昵称：{}'.format(name) , end = ' ')\n",
    "    print('年龄：{}'.format(age) , end = ' ')\n",
    "    print('性别：{}'.format(sex))\n",
    "    return;\n",
    "\n",
    "# 调用 print_user_info 函数\n",
    "\n",
    "print_user_info( name = '两点水' ,age = 18 , sex = '女')\n",
    "print_user_info( name = '两点水' ,sex = '女', age = 18 )\n"
   ]
  },
  {
   "cell_type": "markdown",
   "metadata": {},
   "source": [
    "## 3、不定长参数\n",
    "- Python 提供了一种元组的方式来接受没有直接定义的参数。这种方式在参数前边加星号`*`。"
   ]
  },
  {
   "cell_type": "code",
   "execution_count": 17,
   "metadata": {},
   "outputs": [
    {
     "name": "stdout",
     "output_type": "stream",
     "text": [
      "昵称：两点水 年龄：18 性别：女 爱好：('打篮球', '打羽毛球', '跑步')\n"
     ]
    }
   ],
   "source": [
    "# -*- coding: UTF-8 -*-\n",
    "\n",
    "def print_user_info( name ,  age  , sex = '男' , * hobby):\n",
    "    # 打印用户信息\n",
    "    print('昵称：{}'.format(name) , end = ' ')\n",
    "    print('年龄：{}'.format(age) , end = ' ')\n",
    "    print('性别：{}'.format(sex) ,end = ' ' )\n",
    "    print('爱好：{}'.format(hobby))\n",
    "    return;\n",
    "\n",
    "# 调用 print_user_info 函数\n",
    "print_user_info( '两点水' ,18 , '女', '打篮球','打羽毛球','跑步')\n"
   ]
  },
  {
   "cell_type": "markdown",
   "metadata": {},
   "source": [
    "通过输出的结果可以知道，`*hobby`是可变参数，且 hobby 其实就是一个 tuple （元祖）\n",
    "\n",
    "可变长参数也支持关键字参数（位置参数），没有被定义的关键参数会被放到一个字典里。\n",
    "\n",
    "这种方式即是在参数前边加 `**`,更改上面的示例如下："
   ]
  },
  {
   "cell_type": "code",
   "execution_count": 18,
   "metadata": {},
   "outputs": [
    {
     "name": "stdout",
     "output_type": "stream",
     "text": [
      "昵称：两点水 年龄：18 性别：女 爱好：{'hobby': ('打篮球', '打羽毛球', '跑步')}\n"
     ]
    }
   ],
   "source": [
    "# -*- coding: UTF-8 -*-\n",
    "\n",
    "def print_user_info( name ,  age  , sex = '男' , ** hobby ):\n",
    "    # 打印用户信息\n",
    "    print('昵称：{}'.format(name) , end = ' ')\n",
    "    print('年龄：{}'.format(age) , end = ' ')\n",
    "    print('性别：{}'.format(sex) ,end = ' ' )\n",
    "    print('爱好：{}'.format(hobby))\n",
    "    return;\n",
    "\n",
    "# 调用 print_user_info 函数\n",
    "print_user_info( name = '两点水' , age = 18 , sex = '女', hobby = ('打篮球','打羽毛球','跑步'))\n"
   ]
  },
  {
   "cell_type": "markdown",
   "metadata": {},
   "source": [
    "## 4、只接受关键字参数\n",
    "关键字参数使用起来简单，不容易参数出错，那么有些时候，我们定义的函数希望某些参数强制使用关键字参数传递，这时候该怎么办呢？\n",
    "\n",
    "将强制关键字参数放到某个`*`参数或者单个`*`后面就能达到这种效果,比如："
   ]
  },
  {
   "cell_type": "code",
   "execution_count": 19,
   "metadata": {},
   "outputs": [
    {
     "name": "stdout",
     "output_type": "stream",
     "text": [
      "昵称：两点水 年龄：18 性别：女\n",
      "昵称：两点水 年龄：22 性别：男\n"
     ]
    }
   ],
   "source": [
    "# -*- coding: UTF-8 -*-\n",
    "\n",
    "def print_user_info( name , *, age  , sex = '男' ):\n",
    "    # 打印用户信息\n",
    "    print('昵称：{}'.format(name) , end = ' ')\n",
    "    print('年龄：{}'.format(age) , end = ' ')\n",
    "    print('性别：{}'.format(sex))\n",
    "    return;\n",
    "\n",
    "# 调用 print_user_info 函数\n",
    "print_user_info( name = '两点水' ,age = 18 , sex = '女' )\n",
    "\n",
    "# 这种写法会报错，因为 age ，sex 这两个参数强制使用关键字参数\n",
    "#print_user_info( '两点水' , 18 , '女' )\n",
    "print_user_info('两点水',age='22',sex='男')"
   ]
  },
  {
   "cell_type": "markdown",
   "metadata": {},
   "source": [
    "# 四、函数传值问题"
   ]
  },
  {
   "cell_type": "code",
   "execution_count": null,
   "metadata": {},
   "outputs": [
    {
     "name": "stdout",
     "output_type": "stream",
     "text": [
      "1\n"
     ]
    }
   ],
   "source": [
    "# -*- coding: UTF-8 -*-\n",
    "def chagne_number( b ):\n",
    "    b = 1000\n",
    "\n",
    "b = 1\n",
    "chagne_number(b)\n",
    "print( b )"
   ]
  },
  {
   "cell_type": "markdown",
   "metadata": {},
   "source": [
    "- **在 Python 中，字符串，整形，浮点型，tuple 是不可更改的对象，而 list ， dict 等是可以更改的对象。**"
   ]
  },
  {
   "cell_type": "code",
   "execution_count": 22,
   "metadata": {},
   "outputs": [
    {
     "name": "stdout",
     "output_type": "stream",
     "text": [
      "函数中一开始 b 的值：1\n",
      "函数中 b 赋值后的值：1000\n",
      "最后输出 b 的值：1\n"
     ]
    }
   ],
   "source": [
    "# -*- coding: UTF-8 -*-\n",
    "def chagne_number( b ):\n",
    "    print('函数中一开始 b 的值：{}' .format( b ) )\n",
    "    b = 1000\n",
    "    print('函数中 b 赋值后的值：{}' .format( b ) )\n",
    "\n",
    "\n",
    "b = 1\n",
    "chagne_number( b )\n",
    "print( '最后输出 b 的值：{}' .format( b )  )\n",
    "\n"
   ]
  },
  {
   "cell_type": "code",
   "execution_count": 23,
   "metadata": {},
   "outputs": [
    {
     "name": "stdout",
     "output_type": "stream",
     "text": [
      "函数中一开始 b 的值：[1, 2, 3, 4, 5]\n",
      "函数中 b 赋值后的值：[1, 2, 3, 4, 5, 1000]\n",
      "最后输出 b 的值：[1, 2, 3, 4, 5, 1000]\n"
     ]
    }
   ],
   "source": [
    "# -*- coding: UTF-8 -*-\n",
    "\n",
    "def chagne_list( b ):\n",
    "    print('函数中一开始 b 的值：{}' .format( b ) )\n",
    "    b.append(1000)\n",
    "    print('函数中 b 赋值后的值：{}' .format( b ) )\n",
    "\n",
    "\n",
    "b = [1,2,3,4,5]\n",
    "chagne_list( b )\n",
    "print( '最后输出 b 的值：{}' .format( b )  )"
   ]
  },
  {
   "cell_type": "markdown",
   "metadata": {},
   "source": [
    "# 五、匿名函数\n",
    "python 使用 lambda 来创建匿名函数，也就是不再使用 def 语句这样标准的形式定义一个函数。\n",
    "- lambda 只是一个表达式，函数体比 def 简单很多。\n",
    "- lambda 的主体是一个表达式，而不是一个代码块。仅仅能在 lambda 表达式中封装有限的逻辑进去。\n",
    "- lambda 函数拥有自己的命名空间，且不能访问自有参数列表之外或全局命名空间里的参数。\n",
    "> lambda [arg1 [,arg2,.....argn]]:expression"
   ]
  },
  {
   "cell_type": "code",
   "execution_count": 24,
   "metadata": {},
   "outputs": [
    {
     "name": "stdout",
     "output_type": "stream",
     "text": [
      "3\n"
     ]
    }
   ],
   "source": [
    "# -*- coding: UTF-8 -*-\n",
    "\n",
    "sum = lambda num1 , num2 : num1 + num2;\n",
    "\n",
    "print( sum( 1 , 2 ) )\n"
   ]
  },
  {
   "cell_type": "markdown",
   "metadata": {},
   "source": [
    "注意：**尽管 lambda 表达式允许你定义简单函数，但是它的使用是有限制的。 你只能指定单个表达式，它的值就是最后的返回值。也就是说不能包含其他的语言特性了， 包括多个语句、条件表达式、迭代以及异常处理等等。**\n",
    "\n",
    "匿名函数中，有一个特别需要注意的问题，比如，把上面的例子改一下："
   ]
  },
  {
   "cell_type": "code",
   "execution_count": 25,
   "metadata": {},
   "outputs": [
    {
     "name": "stdout",
     "output_type": "stream",
     "text": [
      "10001\n",
      "10001\n"
     ]
    }
   ],
   "source": [
    "# -*- coding: UTF-8 -*-\n",
    "\n",
    "num2 = 100\n",
    "sum1 = lambda num1 : num1 + num2 ;\n",
    "\n",
    "num2 = 10000\n",
    "sum2 = lambda num1 : num1 + num2 ;\n",
    "\n",
    "print( sum1( 1 ) )\n",
    "print( sum2( 1 ) )"
   ]
  }
 ],
 "metadata": {
  "kernelspec": {
   "display_name": "test_env",
   "language": "python",
   "name": "python3"
  },
  "language_info": {
   "codemirror_mode": {
    "name": "ipython",
    "version": 3
   },
   "file_extension": ".py",
   "mimetype": "text/x-python",
   "name": "python",
   "nbconvert_exporter": "python",
   "pygments_lexer": "ipython3",
   "version": "3.13.0"
  }
 },
 "nbformat": 4,
 "nbformat_minor": 2
}
