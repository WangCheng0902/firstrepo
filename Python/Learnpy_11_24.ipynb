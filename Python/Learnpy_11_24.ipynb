{
 "cells": [
  {
   "cell_type": "markdown",
   "metadata": {},
   "source": [
    "# 一、迭代\n",
    "- Python的`for`循环不仅可以用在List和tuple上，也可以用在其他可迭代对象上。"
   ]
  },
  {
   "cell_type": "code",
   "execution_count": 11,
   "metadata": {},
   "outputs": [
    {
     "name": "stdout",
     "output_type": "stream",
     "text": [
      "l i a n g d i a n s h u i \n",
      "\n",
      "1 2 3 4 5 \n",
      "\n",
      "name age sex \n",
      "\n",
      "两点水 23 男 \n",
      "\n",
      "1 a\n",
      "2 b\n",
      "3 c\n"
     ]
    }
   ],
   "source": [
    "# -*- coding: UTF-8 -*-\n",
    "\n",
    "# 1、for 循环迭代字符串\n",
    "for char in 'liangdianshui':\n",
    "    print( char , end = ' ')\n",
    "\n",
    "print('\\n')\n",
    "\n",
    "# 2、for 循环迭代 list\n",
    "list1 = [1,2,3,4,5]\n",
    "for num1 in list1 :\n",
    "    print( num1 , end = ' ')\n",
    "\n",
    "print('\\n')\n",
    "\n",
    "# 3、for 循环也可以迭代 dict （字典）\n",
    "dict1 = {'name':'两点水','age':'23','sex':'男'} \n",
    "for key in dict1 :\n",
    "    print( key , end = ' ')\n",
    "\n",
    "print('\\n')\n",
    "\n",
    "for value in dict1.values() :\n",
    "    print( value , end = ' ')\n",
    "\n",
    "print ('\\n')\n",
    "\n",
    "# 如果 list 里面一个元素有两个变量，也是很容易迭代的\n",
    "for x , y in [ (1,'a') , (2,'b') , (3,'c') ] :\n",
    "\tprint ( x , y )"
   ]
  },
  {
   "cell_type": "markdown",
   "metadata": {},
   "source": [
    "# 二、Python迭代器\n",
    "迭代器对象从集合的第一个元素开始访问，直到所有的元素被访问完结束。\n",
    "\n",
    "迭代器有两个基本的方法：iter() 和 next(),且字符串，列表或元组对象都可用于创建迭代器，迭代器对象可以使用常规 for 语句进行遍历，也可以使用 next() 函数来遍历。"
   ]
  },
  {
   "cell_type": "code",
   "execution_count": 15,
   "metadata": {},
   "outputs": [
    {
     "name": "stdout",
     "output_type": "stream",
     "text": [
      "l i a n g d i a n s h u i \n",
      "-----------------\n",
      "1\n",
      "2\n",
      "3\n",
      "4\n"
     ]
    }
   ],
   "source": [
    "# 1、字符创创建迭代器对象\n",
    "str1 = 'liangdianshui'\n",
    "iter1 = iter ( str1 )\n",
    "\n",
    "# 2、list对象创建迭代器\n",
    "list2 = [1,2,3,4,5]\n",
    "iter2 = iter (list2)\n",
    "\n",
    "# 3、tuple(元祖) 对象创建迭代器\n",
    "tuple1 = ( 1,2,3,4 )\n",
    "iter3 = iter ( tuple1 )\n",
    "\n",
    "for x in iter1:\n",
    "    print(x , end = ' ')\n",
    "\n",
    "print('\\n-----------------')\n",
    "\n",
    "# next() 函数遍历迭代器\n",
    "while True :\n",
    "    try :\n",
    "        print ( next ( iter3 ) )\n",
    "    except StopIteration :\n",
    "        break"
   ]
  },
  {
   "cell_type": "markdown",
   "metadata": {},
   "source": [
    "# 三、List生成式（列表生成式）"
   ]
  },
  {
   "cell_type": "code",
   "execution_count": 21,
   "metadata": {},
   "outputs": [
    {
     "name": "stdout",
     "output_type": "stream",
     "text": [
      "[1, 2, 3, 4, 5, 6, 7, 8, 9, 10, 11, 12, 13, 14, 15, 16, 17, 18, 19, 20, 21, 22, 23, 24, 25, 26, 27, 28, 29, 30]\n"
     ]
    }
   ],
   "source": [
    "# -*- coding:UTF-8 -*-\n",
    "\n",
    "list3 = list(range(1,31))\n",
    "print(list3)"
   ]
  },
  {
   "cell_type": "code",
   "execution_count": 22,
   "metadata": {},
   "outputs": [
    {
     "name": "stdout",
     "output_type": "stream",
     "text": [
      "[1, 4, 9, 16, 25, 36, 49, 64, 81, 100]\n"
     ]
    }
   ],
   "source": [
    "# -*- coding: UTF-8 -*-\n",
    "list1=[x * x for x in range(1, 11)]\n",
    "print(list1)"
   ]
  },
  {
   "cell_type": "code",
   "execution_count": 23,
   "metadata": {},
   "outputs": [
    {
     "name": "stdout",
     "output_type": "stream",
     "text": [
      "[4, 16, 36, 64, 100]\n"
     ]
    }
   ],
   "source": [
    "# -*- coding: UTF-8 -*-\n",
    "list1= [x * x for x in range(1, 11) if x % 2 == 0]\n",
    "print(list1)"
   ]
  },
  {
   "cell_type": "code",
   "execution_count": 26,
   "metadata": {},
   "outputs": [
    {
     "name": "stdout",
     "output_type": "stream",
     "text": [
      "[(1, 1), (1, 2), (1, 3), (1, 4), (1, 5), (2, 1), (2, 2), (2, 3), (2, 4), (2, 5), (3, 1), (3, 2), (3, 3), (3, 4), (3, 5)]\n"
     ]
    }
   ],
   "source": [
    "# -*- coding: UTF-8 -*-\n",
    "list1= [(x+1,y+1) for x in range(3) for y in range(5)] \n",
    "print(list1)"
   ]
  },
  {
   "cell_type": "markdown",
   "metadata": {},
   "source": [
    "# 四、生成器\n",
    "如果列表元素可以按照某种算法推算出来，那我们是否可以在循环的过程中不断推算出后续的元素呢？\n",
    "\n",
    "在 Python 中，这种一边循环一边计算的机制，称为生成器：generator。\n",
    "## 1、生成器的创建"
   ]
  },
  {
   "cell_type": "code",
   "execution_count": null,
   "metadata": {},
   "outputs": [
    {
     "name": "stdout",
     "output_type": "stream",
     "text": [
      "<generator object <genexpr> at 0x0000021D40707920>\n"
     ]
    }
   ],
   "source": [
    "# -*- coding: UTF-8 -*-\n",
    "#最简单最简单的方法就是把一个列表生成式的 [] 改成 ()\n",
    "#生成器并不真正创建数字列表， 而是返回一个生成器，这个生成器在每次计算出一个条目后，把这个条目“产生” ( yield ) 出来。\n",
    "gen= (x * x for x in range(10))\n",
    "print(gen)"
   ]
  },
  {
   "cell_type": "markdown",
   "metadata": {},
   "source": [
    "## 2、遍历生成器中的元素"
   ]
  },
  {
   "cell_type": "code",
   "execution_count": 28,
   "metadata": {},
   "outputs": [
    {
     "name": "stdout",
     "output_type": "stream",
     "text": [
      "0\n",
      "1\n",
      "4\n",
      "9\n",
      "16\n",
      "25\n",
      "36\n",
      "49\n",
      "64\n",
      "81\n"
     ]
    }
   ],
   "source": [
    "# -*- coding: UTF-8 -*-\n",
    "gen= (x * x for x in range(10))\n",
    "\n",
    "for num  in  gen :\n",
    "\tprint(num)"
   ]
  },
  {
   "cell_type": "markdown",
   "metadata": {},
   "source": [
    "## 3、以函数形式实现生成器"
   ]
  },
  {
   "cell_type": "code",
   "execution_count": 29,
   "metadata": {},
   "outputs": [
    {
     "name": "stdout",
     "output_type": "stream",
     "text": [
      "0\n",
      "1\n",
      "2\n",
      "3\n",
      "4\n",
      "5\n",
      "6\n",
      "7\n",
      "8\n",
      "9\n"
     ]
    }
   ],
   "source": [
    "# -*- coding: UTF-8 -*-\n",
    "def my_function():\n",
    "    for i in range(10):\n",
    "        print ( i )\n",
    "\n",
    "my_function()"
   ]
  },
  {
   "cell_type": "code",
   "execution_count": 30,
   "metadata": {},
   "outputs": [
    {
     "name": "stdout",
     "output_type": "stream",
     "text": [
      "<generator object my_function at 0x0000021D3FECE080>\n"
     ]
    }
   ],
   "source": [
    "# -*- coding: UTF-8 -*-\n",
    "def my_function():\n",
    "    for i in range(10):\n",
    "        yield i\n",
    "\n",
    "print(my_function())"
   ]
  },
  {
   "cell_type": "code",
   "execution_count": 31,
   "metadata": {},
   "outputs": [
    {
     "name": "stdout",
     "output_type": "stream",
     "text": [
      "1 1 2 3 5 8 13 21 34 55 89 144 233 377 610 987 1597 2584 4181 6765 10946 17711 28657 46368 75025 121393 196418 317811 514229 832040 1346269 2178309 3524578 5702887 9227465 14930352 24157817 39088169 63245986 102334155 165580141 267914296 433494437 701408733 1134903170 1836311903 2971215073 4807526976 7778742049 12586269025 20365011074 32951280099 53316291173 86267571272 139583862445 225851433717 365435296162 591286729879 956722026041 1548008755920 2504730781961 4052739537881 6557470319842 10610209857723 17167680177565 27777890035288 44945570212853 72723460248141 117669030460994 190392490709135 308061521170129 498454011879264 806515533049393 1304969544928657 2111485077978050 3416454622906707 5527939700884757 8944394323791464 14472334024676221 23416728348467685 37889062373143906 61305790721611591 99194853094755497 160500643816367088 259695496911122585 420196140727489673 679891637638612258 1100087778366101931 1779979416004714189 2880067194370816120 4660046610375530309 7540113804746346429 12200160415121876738 19740274219868223167 31940434634990099905 51680708854858323072 83621143489848422977 135301852344706746049 218922995834555169026 354224848179261915075 "
     ]
    }
   ],
   "source": [
    "# -*- coding: UTF-8 -*-\n",
    "def fibon(n):\n",
    "    a = b = 1\n",
    "    for i in range(n):\n",
    "        yield a\n",
    "        a, b = b, a + b\n",
    "\n",
    "# 引用函数\n",
    "for x in fibon(100):\n",
    "    print(x , end = ' ')"
   ]
  },
  {
   "cell_type": "markdown",
   "metadata": {},
   "source": [
    "# 五、迭代器和生成器综合例子"
   ]
  },
  {
   "cell_type": "code",
   "execution_count": 32,
   "metadata": {},
   "outputs": [
    {
     "name": "stdout",
     "output_type": "stream",
     "text": [
      "5 4 3 2 1 "
     ]
    }
   ],
   "source": [
    "list1 = [1,2,3,4,5]\n",
    "for num1 in reversed(list1) :\n",
    "    print ( num1 , end = ' ' )"
   ]
  },
  {
   "cell_type": "code",
   "execution_count": null,
   "metadata": {},
   "outputs": [],
   "source": [
    "# -*- coding: UTF-8 -*-\n",
    "\n",
    "class Countdown:\n",
    "    def __init__(self, start):\n",
    "        self.start = start\n",
    "\n",
    "    def __iter__(self):\n",
    "    \t# Forward iterator\n",
    "        n = self.start\n",
    "        while n > 0:\n",
    "            yield n\n",
    "            n -= 1\n",
    "\n",
    "    def __reversed__(self):\n",
    "    \t# Reverse iterator\n",
    "        n = 1\n",
    "        while n <= self.start:\n",
    "            yield n\n",
    "            n += 1\n",
    "\n",
    "for rr in reversed(Countdown(30)):\n",
    "    print(rr)\n",
    "for rr in Countdown(30):\n",
    "    print(rr)"
   ]
  },
  {
   "cell_type": "code",
   "execution_count": 34,
   "metadata": {},
   "outputs": [
    {
     "name": "stdout",
     "output_type": "stream",
     "text": [
      "laingdianshui 18\n",
      "twowater 19\n",
      "两点水 20\n"
     ]
    }
   ],
   "source": [
    "# -*- coding: UTF-8 -*-\n",
    "\n",
    "names = ['laingdianshui', 'twowater', '两点水']\n",
    "ages = [18, 19, 20]\n",
    "for name, age in zip(names, ages):\n",
    "     print(name,age)"
   ]
  },
  {
   "cell_type": "code",
   "execution_count": 35,
   "metadata": {},
   "outputs": [
    {
     "name": "stdout",
     "output_type": "stream",
     "text": [
      "{'laingdianshui': 18, 'twowater': 19, '两点水': 20}\n"
     ]
    }
   ],
   "source": [
    "# -*- coding: UTF-8 -*-\n",
    "\n",
    "names = ['laingdianshui', 'twowater', '两点水']\n",
    "ages = [18, 19, 20]\n",
    "\n",
    "dict1= dict(zip(names,ages))\n",
    "\n",
    "print(dict1)\n"
   ]
  },
  {
   "cell_type": "markdown",
   "metadata": {},
   "source": [
    "# 一、面向对象的概念\n",
    "- 类\n",
    "\n",
    "用来描述具有相同的属性和方法的对象的集合。它定义了该集合中每个对象所共有的属性和方法。对象是类的实例。\n",
    "\n",
    "类是一个变量和函数的集合。\n",
    "- 对象\n",
    "\n",
    "通过类定义的数据结构实例\n",
    "\n",
    "面向对象的编程语言，也有三大特性，继承，多态和封装性。\n",
    "- 继承\n",
    "\n",
    "即一个派生类（derived class）继承基类（base class）的字段和方法。继承也允许把一个派生类的对象作为一个基类对象对待。\n",
    "\n",
    "例如：一个 Dog 类型的对象派生自 Animal 类，这是模拟\"是一个（is-a）\"关系（例图，Dog 是一个 Animal ）。\n",
    "- 多态\n",
    "\n",
    "它是指对不同类型的变量进行相同的操作，它会根据对象（或类）类型的不同而表现出不同的行为。\n",
    "- 封装性\n",
    "\n",
    "“封装”就是将抽象得到的数据和行为（或功能）相结合，形成一个有机的整体（即类）；封装的目的是增强安全性和简化编程，使用者不必了解具体的实现\n",
    "细节，而只是要通过外部接口，一特定的访问权限来使用类的成员。"
   ]
  },
  {
   "cell_type": "markdown",
   "metadata": {},
   "source": [
    "# 二、定义类"
   ]
  },
  {
   "cell_type": "markdown",
   "metadata": {},
   "source": [
    "```python\n",
    "class ClassName():\n",
    "    <statement-1>\n",
    "    .\n",
    "    .\n",
    "    .\n",
    "    <statement-N>\n",
    "```"
   ]
  },
  {
   "cell_type": "code",
   "execution_count": 2,
   "metadata": {},
   "outputs": [
    {
     "name": "stdout",
     "output_type": "stream",
     "text": [
      "100\n",
      "0.01\n",
      "两点水\n",
      "我是 fun1\n",
      "我是 fun1\n",
      "我是 fun1\n"
     ]
    }
   ],
   "source": [
    "class ClassA():\n",
    "    var1 = 100\n",
    "    var2 = 0.01\n",
    "    var3 = '两点水'\n",
    "\n",
    "    def fun1():\n",
    "        print('我是 fun1')\n",
    "\n",
    "    def fun2():\n",
    "        print('我是 fun1')\n",
    "\n",
    "    def fun3():\n",
    "        print('我是 fun1')\n",
    "\n",
    "print(ClassA.var1)\n",
    "print(ClassA.var2)\n",
    "print(ClassA.var3)\n",
    "ClassA.fun1()\n",
    "ClassA.fun2()\n",
    "ClassA.fun3()"
   ]
  },
  {
   "cell_type": "markdown",
   "metadata": {},
   "source": [
    "# 三、类方法\n",
    "## 1、如何调用类属性"
   ]
  },
  {
   "cell_type": "code",
   "execution_count": 3,
   "metadata": {},
   "outputs": [
    {
     "name": "stdout",
     "output_type": "stream",
     "text": [
      "我是fun1两点水\n"
     ]
    }
   ],
   "source": [
    "class ClassB():\n",
    "    var1 = '两点水'\n",
    "\n",
    "    @classmethod\n",
    "    def fun1(cls):\n",
    "        print('我是fun1' + cls.var1)\n",
    "\n",
    "ClassB.fun1()"
   ]
  },
  {
   "cell_type": "code",
   "execution_count": 6,
   "metadata": {},
   "outputs": [
    {
     "name": "stdout",
     "output_type": "stream",
     "text": [
      "我是fun1两点水\n",
      "年龄：18\n"
     ]
    }
   ],
   "source": [
    "class ClassB():\n",
    "    var1 = '两点水'\n",
    "\n",
    "    @classmethod\n",
    "    def fun1(cls, age):\n",
    "        print('我是fun1' + cls.var1)\n",
    "        print('年龄：' + str(age))\n",
    "\n",
    "ClassB.fun1(18)"
   ]
  },
  {
   "cell_type": "markdown",
   "metadata": {},
   "source": [
    "# 四、修改和增加类属性\n",
    "## 1、从内部修改类属性"
   ]
  },
  {
   "cell_type": "code",
   "execution_count": 7,
   "metadata": {},
   "outputs": [
    {
     "name": "stdout",
     "output_type": "stream",
     "text": [
      "原来的var1值为：两点水\n",
      "修改后的var1值为：50\n",
      "请输入修改后的var2的值：60\n"
     ]
    }
   ],
   "source": [
    "class ClassE():\n",
    "    var1 = '两点水'\n",
    "\n",
    "    @classmethod\n",
    "    def fun1(cls):\n",
    "        print('原来的var1值为：' + cls.var1)\n",
    "        cls.var1 = input('请输入想要修改的值：')\n",
    "        print('修改后的var1值为：'+ cls.var1)\n",
    "        cls.var2 = input('请输入想要增加的值：')\n",
    "        print('请输入修改后的var2的值：' + cls.var2)\n",
    "\n",
    "ClassE.fun1()"
   ]
  },
  {
   "cell_type": "markdown",
   "metadata": {},
   "source": [
    "## 2、从外部修改类属性"
   ]
  },
  {
   "cell_type": "code",
   "execution_count": 8,
   "metadata": {},
   "outputs": [
    {
     "name": "stdout",
     "output_type": "stream",
     "text": [
      "原来的var1值为：两点水\n",
      "原来的var1值为：50\n",
      "60\n"
     ]
    }
   ],
   "source": [
    "class ClassE():\n",
    "    var1 = '两点水'\n",
    "\n",
    "    @classmethod\n",
    "    def fun1(cls):\n",
    "        print('原来的var1值为：' + cls.var1)\n",
    "\n",
    "ClassE.fun1()\n",
    "ClassE.var1 = input('修改后的var1值为：')\n",
    "ClassE.fun1()\n",
    "ClassE.var2 = input('请输入想要增加的值：')\n",
    "print(ClassE.var2)"
   ]
  },
  {
   "cell_type": "markdown",
   "metadata": {},
   "source": [
    "# 五、对象\n",
    "## 1、类和对象之间的联系\n",
    "- `类是对象的模板`\n",
    "- `从模具变成产品的过程，我们就称为类的实例化。`\n",
    "- `类实例化之后，就变成对象了。也就是相当于例子中的产品。`"
   ]
  },
  {
   "cell_type": "markdown",
   "metadata": {},
   "source": [
    "## 2、类的实例化"
   ]
  },
  {
   "cell_type": "code",
   "execution_count": 14,
   "metadata": {},
   "outputs": [
    {
     "name": "stdout",
     "output_type": "stream",
     "text": [
      "var1 值为：两点水\n",
      "两点水\n"
     ]
    }
   ],
   "source": [
    "class ClassA(object):\n",
    "    var1 = '两点水'\n",
    "\n",
    "    def fun1(self):\n",
    "        print('var1 值为：' + self.var1)\n",
    "\n",
    "#实例化\n",
    "a = ClassA()\n",
    "#实例化后使用其方法\n",
    "a.fun1()\n",
    "#实例化后使用其类属性\n",
    "print(a.var1)"
   ]
  },
  {
   "cell_type": "markdown",
   "metadata": {},
   "source": [
    "主要的不同点有：\n",
    "\n",
    "- 类方法里面没有了`@classmethod`声明了，不用声明他是类方法\n",
    "- 类方法里面的参数`cls`改为`self`\n",
    "- 类的使用，变成了先通过`实例名 = 类()`的方式实例化对象，为类创建一个实例，然后再使用`实例名.函数()`的方式调用对应的方法 ，使用`实例名.变量名`的方法调用类的属性\n",
    "\n",
    "而且 self 是所有类方法位于首位、默认的特殊参数。\n",
    "\n",
    "因为一个类是可以创造出多个实例对象出来的。"
   ]
  }
 ],
 "metadata": {
  "kernelspec": {
   "display_name": "test_env",
   "language": "python",
   "name": "python3"
  },
  "language_info": {
   "codemirror_mode": {
    "name": "ipython",
    "version": 3
   },
   "file_extension": ".py",
   "mimetype": "text/x-python",
   "name": "python",
   "nbconvert_exporter": "python",
   "pygments_lexer": "ipython3",
   "version": "3.13.0"
  }
 },
 "nbformat": 4,
 "nbformat_minor": 2
}
