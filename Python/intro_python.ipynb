{
 "cells": [
  {
   "cell_type": "markdown",
   "metadata": {},
   "source": [
    "```python\n",
    "i = 42       # integer\n",
    "i = 2**77    # Integers have arbitrary precision\n",
    "g = 3.14     # floating point number\n",
    "c = 2 - 3j   # Complex number\n",
    "b = True     # boolean\n",
    "s = \"Hello!\" # String (Unicode)\n",
    "q = b'Hello' # bytes (8-bit values)\n",
    "```"
   ]
  },
  {
   "cell_type": "code",
   "execution_count": 2,
   "metadata": {},
   "outputs": [
    {
     "name": "stdout",
     "output_type": "stream",
     "text": [
      "[0, 1, 8, 27, 64, 125, 216, 343, 512, 729]\n"
     ]
    }
   ],
   "source": [
    "\n",
    "a = list(range(10))\n",
    "b = [0]*10\n",
    "\n",
    "for i in a:\n",
    "    b[i] = a[i]**3\n",
    "print(b)\n"
   ]
  }
 ],
 "metadata": {
  "kernelspec": {
   "display_name": "venv",
   "language": "python",
   "name": "python3"
  },
  "language_info": {
   "codemirror_mode": {
    "name": "ipython",
    "version": 3
   },
   "file_extension": ".py",
   "mimetype": "text/x-python",
   "name": "python",
   "nbconvert_exporter": "python",
   "pygments_lexer": "ipython3",
   "version": "3.13.0"
  }
 },
 "nbformat": 4,
 "nbformat_minor": 2
}
