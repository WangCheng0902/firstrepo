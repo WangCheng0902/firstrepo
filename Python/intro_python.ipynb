{
 "cells": [
  {
   "cell_type": "markdown",
   "metadata": {},
   "source": [
    "```python\n",
    "i = 42       # integer\n",
    "i = 2**77    # Integers have arbitrary precision\n",
    "g = 3.14     # floating point number\n",
    "c = 2 - 3j   # Complex number\n",
    "b = True     # boolean\n",
    "s = \"Hello!\" # String (Unicode)\n",
    "q = b'Hello' # bytes (8-bit values)\n",
    "```"
   ]
  },
  {
   "cell_type": "code",
   "execution_count": 2,
   "metadata": {},
   "outputs": [
    {
     "name": "stdout",
     "output_type": "stream",
     "text": [
      "[0, 1, 8, 27, 64, 125, 216, 343, 512, 729]\n"
     ]
    }
   ],
   "source": [
    "\n",
    "a = list(range(10))\n",
    "b = [0]*10\n",
    "\n",
    "for i in a:\n",
    "    b[i] = a[i]**3\n",
    "print(b)\n"
   ]
  },
  {
   "cell_type": "code",
   "execution_count": 4,
   "metadata": {},
   "outputs": [
    {
     "name": "stdout",
     "output_type": "stream",
     "text": [
      "<class 'tuple'>\n",
      "('a1', 'b2', 'c3')\n",
      "{'a': '1', 'b': '2', 'c': '3'}\n"
     ]
    }
   ],
   "source": [
    "value = ('a1','b2','c3')\n",
    "print(type(value))\n",
    "print(value)\n",
    "print(dict(value))"
   ]
  },
  {
   "cell_type": "code",
   "execution_count": 19,
   "metadata": {},
   "outputs": [
    {
     "name": "stdout",
     "output_type": "stream",
     "text": [
      "0\n",
      "1\n",
      "1\n",
      "2\n",
      "3\n",
      "5\n",
      "8\n",
      "13\n",
      "21\n",
      "34\n",
      "1\n",
      "1\n",
      "2\n",
      "3\n",
      "5\n",
      "8\n",
      "13\n",
      "21\n",
      "34\n",
      "55\n",
      "89\n",
      "144\n",
      "233\n",
      "377\n",
      "610\n",
      "987\n",
      "1597\n",
      "2584\n",
      "4181\n",
      "6765\n"
     ]
    }
   ],
   "source": [
    "#打印斐波那契数列\n",
    "a = 0\n",
    "b = 1\n",
    "for i in range(10):\n",
    "    print(a)\n",
    "    a,b = b,a+b\n",
    "\n",
    "def fib(n):\n",
    "    if n in (1, 2):\n",
    "        return 1\n",
    "    return fib(n - 1) + fib(n - 2)\n",
    "\n",
    "\n",
    "# 打印前20个斐波那契数\n",
    "for i in range(1, 21):\n",
    "    print(fib(i))\n",
    "    "
   ]
  },
  {
   "cell_type": "code",
   "execution_count": null,
   "metadata": {},
   "outputs": [],
   "source": [
    "%%timeit\n",
    "sum = 0\n",
    "\n",
    "for i in range(10000):\n",
    "    sum += i+1\n",
    "\n",
    "print(sum)"
   ]
  },
  {
   "cell_type": "code",
   "execution_count": 20,
   "metadata": {},
   "outputs": [
    {
     "name": "stdout",
     "output_type": "stream",
     "text": [
      "骆昊: 40\n",
      "[骆昊: 40, 李元芳: 36, 王大锤: 25]\n"
     ]
    }
   ],
   "source": [
    "class Student:\n",
    "    \"\"\"学生\"\"\"\n",
    "\n",
    "    def __init__(self, name, age):\n",
    "        \"\"\"初始化方法\"\"\"\n",
    "        self.name = name\n",
    "        self.age = age\n",
    "\n",
    "    def study(self, course_name):\n",
    "        \"\"\"学习\"\"\"\n",
    "        print(f'{self.name}正在学习{course_name}.')\n",
    "\n",
    "    def play(self):\n",
    "        \"\"\"玩耍\"\"\"\n",
    "        print(f'{self.name}正在玩游戏.')\n",
    "    \n",
    "    def __repr__(self):\n",
    "        return f'{self.name}: {self.age}'\n",
    "\n",
    "\n",
    "stu1 = Student('骆昊', 40)\n",
    "print(stu1)        # 骆昊: 40\n",
    "students = [stu1, Student('李元芳', 36), Student('王大锤', 25)]\n",
    "print(students)    # [骆昊: 40, 李元芳: 36, 王大锤: 25]"
   ]
  },
  {
   "cell_type": "code",
   "execution_count": null,
   "metadata": {},
   "outputs": [],
   "source": [
    "import time\n",
    "\n",
    "\n",
    "# 定义数字时钟类\n",
    "class Clock(object):\n",
    "    \"\"\"数字时钟\"\"\"\n",
    "\n",
    "    def __init__(self, hour=0, minute=0, second=0):\n",
    "        \"\"\"初始化方法\n",
    "        :param hour: 时\n",
    "        :param minute: 分\n",
    "        :param second: 秒\n",
    "        \"\"\"\n",
    "        self.hour = hour\n",
    "        self.min = minute\n",
    "        self.sec = second\n",
    "\n",
    "    def run(self):\n",
    "        \"\"\"走字\"\"\"\n",
    "        self.sec += 1\n",
    "        if self.sec == 60:\n",
    "            self.sec = 0\n",
    "            self.min += 1\n",
    "            if self.min == 60:\n",
    "                self.min = 0\n",
    "                self.hour += 1\n",
    "                if self.hour == 24:\n",
    "                    self.hour = 0\n",
    "\n",
    "    def show(self):\n",
    "        \"\"\"显示时间\"\"\"\n",
    "        return f'{self.hour:0>2d}:{self.min:0>2d}:{self.sec:0>2d}'\n",
    "\n",
    "\n",
    "# 创建时钟对象\n",
    "clock = Clock(23, 59, 58)\n",
    "while True:\n",
    "    # 给时钟对象发消息读取时间\n",
    "    print(clock.show())\n",
    "    # 休眠1秒钟\n",
    "    time.sleep(1)\n",
    "    # 给时钟对象发消息使其走字\n",
    "    clock.run()"
   ]
  },
  {
   "cell_type": "code",
   "execution_count": 27,
   "metadata": {},
   "outputs": [
    {
     "name": "stdout",
     "output_type": "stream",
     "text": [
      "(1, 2) (4, 6)\n",
      "5.0\n"
     ]
    }
   ],
   "source": [
    "class Point(object):\n",
    "    \"\"\"屏面上的点\"\"\"\n",
    "\n",
    "    def __init__(self, x=0, y=0):\n",
    "        \"\"\"初始化方法\n",
    "        :param x: 横坐标\n",
    "        :param y: 纵坐标\n",
    "        \"\"\"\n",
    "        self.x, self.y = x, y\n",
    "\n",
    "    def distance_to(self, other):\n",
    "        \"\"\"计算与另一个点的距离\n",
    "        :param other: 另一个点\n",
    "        \"\"\"\n",
    "        dx = self.x - other.x\n",
    "        dy = self.y - other.y\n",
    "        return (dx * dx + dy * dy) ** 0.5\n",
    "\n",
    "    def __str__(self):\n",
    "        return f'({self.x}, {self.y})'\n",
    "\n",
    "\n",
    "# 示例点对象\n",
    "p1 = Point(1, 2)\n",
    "p2 = Point(4, 6)\n",
    "print(p1, p2)\n",
    "print(p1.distance_to(p2))"
   ]
  },
  {
   "cell_type": "code",
   "execution_count": 28,
   "metadata": {},
   "outputs": [
    {
     "name": "stdout",
     "output_type": "stream",
     "text": [
      "王大锤正在学习Python程序设计.\n",
      "王大锤 20\n"
     ]
    }
   ],
   "source": [
    "class Student:\n",
    "\n",
    "    def __init__(self, name, age):\n",
    "        self.__name = name\n",
    "        self.__age = age\n",
    "\n",
    "    def study(self, course_name):\n",
    "        print(f'{self.__name}正在学习{course_name}.')\n",
    "\n",
    "\n",
    "stu = Student('王大锤', 20)\n",
    "stu.study('Python程序设计')\n",
    "print(stu._Student__name, stu._Student__age)"
   ]
  },
  {
   "cell_type": "code",
   "execution_count": 3,
   "metadata": {},
   "outputs": [
    {
     "name": "stdout",
     "output_type": "stream",
     "text": [
      "2122726173136\n",
      "[ 4  8 12]\n",
      "2122726173136\n"
     ]
    }
   ],
   "source": [
    "import numpy as np\n",
    "\n",
    "x = np.array([1, 2, 3])\n",
    "print(id(x))                        # get the memory-ID of x\n",
    "np.add(x, x, x)              # Third argument is output array\n",
    "np.add(x, x, x)\n",
    "print(x)\n",
    "print(id(x))                        # get the memory-ID of x\n",
    "                             # - notice  it is the same"
   ]
  },
  {
   "cell_type": "code",
   "execution_count": 11,
   "metadata": {},
   "outputs": [
    {
     "name": "stdout",
     "output_type": "stream",
     "text": [
      "[3 2 1]\n",
      "[[0. 0. 0. 0. 0.]\n",
      " [0. 1. 1. 1. 0.]\n",
      " [0. 1. 1. 1. 0.]\n",
      " [0. 1. 1. 1. 0.]\n",
      " [0. 0. 0. 0. 0.]]\n",
      "[0.28005509 0.59883238 0.41007625 0.23698442 0.59641436 0.63933762\n",
      " 0.83545908 0.02208609 0.53017341 0.14691656 0.51060089 0.55021578\n",
      " 0.15683976 0.1026048  0.50895697 0.3232104  0.98645219 0.65788631\n",
      " 0.85632939 0.42700152]\n",
      "[10.28005509 10.59883238 10.41007625 10.23698442 10.59641436 10.63933762\n",
      "  0.83545908  0.02208609 10.53017341  0.14691656 10.51060089 10.55021578\n",
      "  0.15683976  0.1026048  10.50895697 10.3232104   0.98645219 10.65788631\n",
      "  0.85632939 10.42700152]\n"
     ]
    }
   ],
   "source": [
    "import numpy as np\n",
    "\n",
    "a = np.array([1, 2, 3])\n",
    "a = a[::-1] \n",
    "print(a)\n",
    "\n",
    "boundary_array = np.ones((5, 5))\n",
    "boundary_array[[0,-1], :] = 0\n",
    "boundary_array[:, [0,-1]] = 0\n",
    "print(boundary_array)\n",
    "\n",
    "x = np.random.rand(20)\n",
    "print(x)\n",
    "y = x + 10*(x > 0.2)*(x < 0.7)   #(x > 0.2)*(x < 0.7)将返回一个布尔数组，True对应1，False对应0\n",
    "print(y)"
   ]
  }
 ],
 "metadata": {
  "kernelspec": {
   "display_name": "venv",
   "language": "python",
   "name": "python3"
  },
  "language_info": {
   "codemirror_mode": {
    "name": "ipython",
    "version": 3
   },
   "file_extension": ".py",
   "mimetype": "text/x-python",
   "name": "python",
   "nbconvert_exporter": "python",
   "pygments_lexer": "ipython3",
   "version": "3.13.0"
  }
 },
 "nbformat": 4,
 "nbformat_minor": 2
}
