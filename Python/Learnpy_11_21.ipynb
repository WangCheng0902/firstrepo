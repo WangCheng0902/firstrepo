{
 "cells": [
  {
   "cell_type": "markdown",
   "metadata": {},
   "source": [
    "# 一、代码格式\n",
    "## 1、编码\n",
    "- 如无特殊情况，文件头部必须加入 `# -*- coding:utf-8 -*-` 标识\n",
    "## 2、代码格式\n",
    "### 2.1缩进\n",
    "- 统一使用 4 个空格进行缩进\n",
    "### 2.2行宽\n",
    "每行代码尽量不超过 80 个字符(在特殊情况下可以略微超过 80 ，但最长不得超过 120)\n",
    "### 2.3引号\n",
    "简单说，自然语言使用双引号，机器标示使用单引号，因此**代码里**多数应该使用**单引号**\n",
    "### 2.4空行\n",
    "- 模块级函数和类定义之间空两行；\n",
    "- 类成员函数之间空一行；\n",
    "```python\n",
    "    class A:\n",
    "\n",
    "        def __init__(self):\n",
    "            pass\n",
    "\n",
    "        def hello(self):\n",
    "            pass\n",
    "\n",
    "\n",
    "        \n",
    "    def main():\n",
    "        pass\n",
    "```    \n",
    "- 可以使用多个空行分隔多组相关的函数\n",
    "- 函数中可以使用空行分隔出逻辑相关的代码\n",
    "## 3、import语句\n",
    "- import 语句应该分行书写\n",
    "```python\n",
    "# 正确的写法\n",
    "import os\n",
    "import sys\n",
    "\n",
    "# 不推荐的写法\n",
    "import sys,os\n",
    "\n",
    "# 正确的写法\n",
    "from subprocess import Popen, PIPE\n",
    "```\n",
    "- import语句应该使用 absolute import\n",
    "## 4、空格\n",
    "- 在二元运算符两边各空一格`[=,-,+=,==,>,in,is not, and]`:\n",
    "```python\n",
    "# 正确的写法\n",
    "i = i + 1\n",
    "submitted += 1\n",
    "x = x * 2 - 1\n",
    "hypot2 = x * x + y * y\n",
    "c = (a + b) * (a - b)\n",
    "\n",
    "# 不推荐的写法\n",
    "i=i+1\n",
    "submitted +=1\n",
    "x = x*2 - 1\n",
    "hypot2 = x*x + y*y\n",
    "c = (a+b) * (a-b)\n",
    "```\n",
    "## 5、换行\n",
    "Python 支持括号内的换行。这时有两种情况。\n",
    "\n",
    "1.第二行缩进到括号的起始处\n",
    "```python\n",
    "foo = long_function_name(var_one, var_two,\n",
    "                         var_three, var_four)\n",
    "```\n",
    "2.第二行缩进 4 个空格，适用于起始括号就换行的情形\n",
    "```python\n",
    "def long_function_name(\n",
    "        var_one, var_two, var_three,\n",
    "        var_four):\n",
    "    print(var_one)\n",
    "```\n",
    "\n"
   ]
  },
  {
   "cell_type": "markdown",
   "metadata": {},
   "source": [
    "# 字符串编码\n",
    "当Python 解释器读取源代码时，为了让它按 UTF-8 编码读取，我们通常在文件开头写上这两行：\n",
    "```python\n",
    "#!/usr/bin/env python3 \n",
    "# -*- coding: utf-8 -*-\n",
    "```\n",
    "第一行注释是为了告诉 Linux/OS X 系统，这是一个 Python 可执行程序，Windows 系统会忽略这个注释；\n",
    "\n",
    "第二行注释是为了告诉 Python 解释器，按照 UTF-8 编码读取源代码，否则，你在源代码中写的中文输出可能会有乱码。"
   ]
  },
  {
   "cell_type": "markdown",
   "metadata": {},
   "source": [
    "# 二、基本数据类型转换\n",
    "|方法|说明|\n",
    "|-----|------|\n",
    "|int(x [,base ])  |       将x转换为一个整数  |\n",
    "|float(x )    |           将x转换到一个浮点数  |\n",
    "|complex(real [,imag ])|  创建一个复数  |\n",
    "|str(x ) |                将对象 x 转换为字符串  |\n",
    "|repr(x ) |               将对象 x 转换为表达式字符串  |\n",
    "|eval(str )  |            用来计算在字符串中的有效 Python 表达式,并返回一个对象  |\n",
    "|tuple(s )  |             将序列 s 转换为一个元组  |\n",
    "|list(s )   |             将序列 s 转换为一个列表  |\n",
    "|chr(x )   |              将一个整数转换为一个字符  |\n",
    "|unichr(x )  |            将一个整数转换为 Unicode 字符  |\n",
    "|ord(x )     |            将一个字符转换为它的整数值  |\n",
    "|hex(x )     |            将一个整数转换为一个十六进制字符串  |\n",
    "|oct(x )     |            将一个整数转换为一个八进制字符串  |"
   ]
  },
  {
   "cell_type": "code",
   "execution_count": 10,
   "metadata": {},
   "outputs": [
    {
     "name": "stdout",
     "output_type": "stream",
     "text": [
      "100300\n",
      "400\n"
     ]
    }
   ],
   "source": [
    "str1 = '100'\n",
    "str2 = '300'\n",
    "\n",
    "print(str1+str2)\n",
    "print(int(str1)+int(str2))\n"
   ]
  },
  {
   "cell_type": "markdown",
   "metadata": {},
   "source": [
    "中文字符和小数形式的字符串也是不能用 int() 函数转换的。"
   ]
  },
  {
   "cell_type": "code",
   "execution_count": 11,
   "metadata": {},
   "outputs": [
    {
     "name": "stdout",
     "output_type": "stream",
     "text": [
      "88\n"
     ]
    }
   ],
   "source": [
    "print(int(88.88))"
   ]
  },
  {
   "cell_type": "markdown",
   "metadata": {},
   "source": [
    "# 三、python的基本数据类型\n",
    "## 1、字符串"
   ]
  },
  {
   "cell_type": "code",
   "execution_count": 13,
   "metadata": {},
   "outputs": [
    {
     "name": "stdout",
     "output_type": "stream",
     "text": [
      "两点水\n",
      "两点水\n",
      "两点水\n",
      "两'点'水\n"
     ]
    }
   ],
   "source": [
    "str3 = '两点水'\n",
    "str4 = \"两点水\"\n",
    "str5 = '''两点水'''\n",
    "str6 = '两\\'点\\'水'\n",
    "\n",
    "print(str3)\n",
    "print(str4)\n",
    "print(str5)\n",
    "print(str6)"
   ]
  },
  {
   "cell_type": "markdown",
   "metadata": {},
   "source": [
    "## 2、整数"
   ]
  },
  {
   "cell_type": "code",
   "execution_count": 14,
   "metadata": {},
   "outputs": [
    {
     "name": "stdout",
     "output_type": "stream",
     "text": [
      "3\n",
      "-1\n",
      "2\n",
      "0.5\n",
      "<class 'int'>\n",
      "<class 'int'>\n",
      "<class 'int'>\n",
      "<class 'float'>\n"
     ]
    }
   ],
   "source": [
    "int1 = 1 + 2\n",
    "int2 = 1 - 2\n",
    "int3 = 1 * 2\n",
    "int4 = 1 / 2\n",
    "\n",
    "print(int1)\n",
    "print(int2)\n",
    "print(int3)\n",
    "print(int4)\n",
    "\n",
    "print(type(int1))\n",
    "print(type(int2))\n",
    "print(type(int3))\n",
    "print(type(int4))"
   ]
  },
  {
   "cell_type": "markdown",
   "metadata": {},
   "source": [
    "## 3、浮点数\n",
    "- 计算机对浮点数的表达本身是不精确的。保存在计算机中的是二进制数，二进制对有些数字不能准确表达，只能非常接近这个数。"
   ]
  },
  {
   "cell_type": "code",
   "execution_count": 15,
   "metadata": {},
   "outputs": [
    {
     "name": "stdout",
     "output_type": "stream",
     "text": [
      "0.96\n",
      "0.9500000000000001\n",
      "0.9610000000000001\n"
     ]
    }
   ],
   "source": [
    "print(0.55+0.41)\n",
    "print(0.55+0.4)\n",
    "print(0.55+0.411)"
   ]
  },
  {
   "cell_type": "markdown",
   "metadata": {},
   "source": [
    "## 4、布尔\n",
    "布尔值和布尔代数的表示完全一致，一个布尔值只有 `True` 、 `False `两种值，要么是 `True`，要么是 `False`，在 Python 中，可以直接用 True、False 表示布尔值（请注意大小写），也可以通过布尔运算计算出来。\n",
    "\n",
    "布尔值可以用 `and`、`or` 和 `not` 运算。\n",
    "\n",
    "`and` 运算是与运算，只有所有都为 True，and 运算结果才是 True。\n",
    "\n",
    "`or` 运算是或运算，只要其中有一个为 True，or 运算结果就是 True。\n",
    "\n",
    "`not` 运算是非运算，它是一个单目运算符，把 True 变成 False，False 变成 True。"
   ]
  },
  {
   "cell_type": "markdown",
   "metadata": {},
   "source": [
    "## 5、空值 ##\n",
    "\n",
    "基本上每种编程语言都有自己的特殊值——空值，在 Python 中，用 _**None**_ 来表示"
   ]
  },
  {
   "cell_type": "markdown",
   "metadata": {},
   "source": [
    "## 6、变量\n",
    "- 变量名必须是大小写英文、数字和下划线（_）的组合\n",
    "- Python 允许同时为多个变量赋值。例如：\n",
    "> a = b = c = 1"
   ]
  },
  {
   "cell_type": "code",
   "execution_count": null,
   "metadata": {},
   "outputs": [],
   "source": [
    "a, b, c = 1, 2, \"liangdianshui\"\n",
    "\n",
    "print(a)\n",
    "print(b)\n",
    "print(c)"
   ]
  },
  {
   "cell_type": "markdown",
   "metadata": {},
   "source": [
    "## 7、print函数"
   ]
  },
  {
   "cell_type": "code",
   "execution_count": 22,
   "metadata": {},
   "outputs": [
    {
     "name": "stdout",
     "output_type": "stream",
     "text": [
      "a\n",
      "b\n",
      "---------\n",
      "a\n",
      "b\n",
      "a b\n"
     ]
    }
   ],
   "source": [
    "# -*- coding: UTF-8 -*-\n",
    "\n",
    "x=\"a\"\n",
    "y=\"b\"\n",
    "# 换行输出\n",
    "print (x)\n",
    "print (y)\n",
    "\n",
    "print ('---------')\n",
    "# 不换行输出\n",
    "print (x),\n",
    "print (y),\n",
    "\n",
    "# 不换行输出\n",
    "print (x,y)"
   ]
  },
  {
   "cell_type": "markdown",
   "metadata": {},
   "source": [
    "# 四、List(列表)\n",
    "## 1、List （列表）是 Python 内置的一种数据类型。 它是一种有序的集合，可以随时添加和删除其中的元素。"
   ]
  },
  {
   "cell_type": "code",
   "execution_count": 9,
   "metadata": {},
   "outputs": [
    {
     "name": "stdout",
     "output_type": "stream",
     "text": [
      "{'nume': 'a1', 'name': '两点水'}\n",
      "三点水\n",
      "['a1', '两点水']\n",
      "['a1', '两点水']\n",
      "['a1', '两点水', '三点水', '四点水', '五点水']\n",
      "['两点水']\n",
      "['a1', '两点水', '三点水']\n"
     ]
    }
   ],
   "source": [
    "name = ['a1', '两点水', '三点水', '四点水', '五点水']\n",
    "\n",
    "# 通过索引来访问列表\n",
    "print(dict(nume=name[0], name=name[1]))\n",
    "print(name[2])\n",
    "# 通过方括号的形式来截取列表中的数据\n",
    "print(name[0:2])\n",
    "print(name[:2])\n",
    "print(name[:])\n",
    "print(name[1:2])\n",
    "print(name[0:3])"
   ]
  },
  {
   "cell_type": "markdown",
   "metadata": {},
   "source": [
    "## 2、怎么去更新 List（列表） ##"
   ]
  },
  {
   "cell_type": "code",
   "execution_count": 27,
   "metadata": {},
   "outputs": [
    {
     "name": "stdout",
     "output_type": "stream",
     "text": [
      "['一点水', '2点水', '三点水', '四点水', '五点水']\n",
      "['一点水', '2点水', '三点水', '四点水', '五点水', '六点水']\n",
      "['一点水', '2点水', '三点水', '五点水', '六点水']\n"
     ]
    }
   ],
   "source": [
    "name = ['一点水', '两点水', '三点水', '四点水', '五点水']\n",
    "\n",
    "\n",
    "# 通过索引对列表的数据项进行修改或更新\n",
    "name[1]='2点水'\n",
    "print(name)\n",
    "\n",
    "# 使用 append() 方法来添加列表项\n",
    "name.append('六点水')\n",
    "print(name)\n",
    "\n",
    "# 使用 del 语句来删除列表的的元素\n",
    "del name[3]\n",
    "print(name)"
   ]
  },
  {
   "cell_type": "markdown",
   "metadata": {},
   "source": [
    "## 3、List（列表）运算符 ##\n",
    "\n",
    "列表对 `+`  和 `*`  的操作符与字符串相似。`+` 号用于组合列表，`*`  号用于重复列表。\n",
    "\n",
    "|Python 表达式|结果|描述|\n",
    "|-----------|-----|-----|\n",
    "|len([1, 2, 3])|3|计算元素个数|\n",
    "|[1, 2, 3] + [4, 5, 6]|\t[1, 2, 3, 4, 5, 6]|\t组合|\n",
    "|['Hi!'] * 4|['Hi!', 'Hi!', 'Hi!', 'Hi!']|复制|\n",
    "|3 in [1, 2, 3]|True|元素是否存在于列表中|\n",
    "|for x in [1, 2, 3]: print x,|1 2 3|迭代|"
   ]
  },
  {
   "cell_type": "markdown",
   "metadata": {},
   "source": [
    "## 4、List （列表）函数&方法 ##\n",
    "\n",
    "|函数&方法|描述|\n",
    "|----|----|\n",
    "|len(list)|列表元素个数|\n",
    "|max(list)|返回列表元素最大值|\n",
    "|min(list)|返回列表元素最小值|\n",
    "|list(seq)|将元组转换为列表|\n",
    "|list.append(obj)|在列表末尾添加新的对象|\n",
    "|list.count(obj)|统计某个元素在列表中出现的次数|\n",
    "|list.extend(seq)|在列表末尾一次性追加另一个序列中的多个值（用新列表扩展原来的列表）|\n",
    "|list.index(obj)|从列表中找出某个值第一个匹配项的索引位置|\n",
    "|list.insert(index, obj)|将对象插入列表|\n",
    "|list.pop(obj=list[-1])|移除列表中的一个元素（默认最后一个元素），并且返回该元素的值|\n",
    "|list.remove(obj)|移除列表中的一个元素（参数是列表中元素），并且不返回任何值|\n",
    "|list.reverse()|反向列表中元素|\n",
    "|list.sort([func])|对原列表进行排序|"
   ]
  },
  {
   "cell_type": "markdown",
   "metadata": {},
   "source": [
    "## 5、实例 ##\n",
    "最后通过一个例子来熟悉了解 List 的操作"
   ]
  },
  {
   "cell_type": "code",
   "execution_count": null,
   "metadata": {},
   "outputs": [],
   "source": [
    "#-*-coding:utf-8-*-\n",
    "#-----------------------list的使用----------------------------------\n",
    "\n",
    "# 1.一个产品，需要列出产品的用户，这时候就可以使用一个 list 来表示\n",
    "user=['liangdianshui','twowater','两点水']\n",
    "print('1.产品用户')\n",
    "print(user)\n",
    "\n",
    "# 2.如果需要统计有多少个用户，这时候 len() 函数可以获的 list 里元素的个数\n",
    "len(user)\n",
    "print('\\n2.统计有多少个用户')\n",
    "print(len(user))\n",
    "\n",
    "# 3.此时，如果需要知道具体的用户呢？可以用过索引来访问 list 中每一个位置的元素，索引是0从开始的\n",
    "print('\\n3.查看具体的用户')\n",
    "print(user[0]+','+user[1]+','+user[2])\n",
    "\n",
    "# 4.突然来了一个新的用户，这时我们需要在原有的 list 末尾加一个用户\n",
    "user.append('茵茵')\n",
    "print('\\n4.在末尾添加新用户')\n",
    "print(user)\n",
    "\n",
    "# 5.又新增了一个用户，可是这个用户是 VIP 级别的学生，需要放在第一位，可以通过 insert 方法插入到指定的位置\n",
    "# 注意：插入数据的时候注意是否越界，索引不能超过 len(user)-1\n",
    "user.insert(0,'VIP用户')\n",
    "print('\\n5.指定位置添加用户')\n",
    "print(user)\n",
    "\n",
    "# 6.突然发现之前弄错了，“茵茵”就是'VIP用户'，因此，需要删除“茵茵”；pop() 删除 list 末尾的元素\n",
    "user.pop()\n",
    "print('\\n6.删除末尾用户')\n",
    "print(user)\n",
    "\n",
    "# 7.过了一段时间，用户“liangdianshui”不玩这个产品，删除了账号\n",
    "# 因此需要要删除指定位置的元素，用pop(i)方法，其中i是索引位置\n",
    "user.pop(1)\n",
    "print('\\n7.删除指定位置的list元素')\n",
    "print(user)\n",
    "\n",
    "# 8.用户“两点水”想修改自己的昵称了\n",
    "user[2]='三点水'\n",
    "print('\\n8.把某个元素替换成别的元素')\n",
    "print(user)\n",
    "\n",
    "# 9.单单保存用户昵称好像不够好，最好把账号也放进去\n",
    "# 这里账号是整数类型，跟昵称的字符串类型不同，不过 list 里面的元素的数据类型是可以不同的\n",
    "# 而且 list 元素也可以是另一个 list\n",
    "newUser=[['VIP用户',11111],['twowater',22222],['三点水',33333]]\n",
    "print('\\n9.不同元素类型的list数据')\n",
    "print(newUser)"
   ]
  },
  {
   "cell_type": "markdown",
   "metadata": {},
   "source": [
    "# 五、tuplr(元组)\n",
    "tuple 和 List 非常类似，但是 tuple 一旦初始化就不能修改。 也就是说元组（tuple）是不可变的，那么不可变是指什么意思呢？\n",
    "\n",
    "元组（tuple） 不可变是指当你创建了 tuple 时候，它就不能改变了，也就是说它也没有 append()，insert() 这样的方法，但它也有获取某个索引值的方法，但是不能赋值。\n",
    "\n",
    "那么为什么要有 tuple 呢？\n",
    "\n",
    "那是因为 tuple 是不可变的，所以代码更安全。\n",
    "\n",
    "所以建议能用 tuple 代替 list 就尽量用 tuple 。"
   ]
  },
  {
   "cell_type": "code",
   "execution_count": 32,
   "metadata": {},
   "outputs": [
    {
     "name": "stdout",
     "output_type": "stream",
     "text": [
      "('两点水', 'twowter', 'liangdianshui', 123, 456)\n",
      "('两点水', 'twowter', 'liangdianshui', 123, 456)\n",
      "()\n",
      "(123,)\n",
      "123\n"
     ]
    }
   ],
   "source": [
    "tuple1=('两点水','twowter','liangdianshui',123,456)\n",
    "tuple2='两点水','twowter','liangdianshui',123,456\n",
    "tuple3=()\n",
    "tuple4=(123,)\n",
    "tuple5=(123)\n",
    "\n",
    "print(tuple1)\n",
    "print(tuple2)\n",
    "print(tuple3)\n",
    "print(tuple4)\n",
    "print(tuple5)"
   ]
  },
  {
   "cell_type": "markdown",
   "metadata": {},
   "source": [
    "## 2、访问tuple"
   ]
  },
  {
   "cell_type": "code",
   "execution_count": 34,
   "metadata": {},
   "outputs": [
    {
     "name": "stdout",
     "output_type": "stream",
     "text": [
      "twowater\n",
      "两点水\n"
     ]
    }
   ],
   "source": [
    "#-*-coding:utf-8-*-\n",
    "\n",
    "tuple1=('两点水','twowater','liangdianshui',123,456)\n",
    "tuple2='两点水','twowater','liangdianshui',123,456\n",
    "\n",
    "print(tuple1[1])\n",
    "print(tuple2[0])"
   ]
  },
  {
   "cell_type": "markdown",
   "metadata": {},
   "source": [
    "## 3、修改tuple"
   ]
  },
  {
   "cell_type": "code",
   "execution_count": 35,
   "metadata": {},
   "outputs": [
    {
     "name": "stdout",
     "output_type": "stream",
     "text": [
      "('两点水', 'twowater', 'liangdianshui', [123, 456])\n",
      "('两点水', 'twowater', 'liangdianshui', [789, 100])\n"
     ]
    }
   ],
   "source": [
    "#-*-coding:utf-8-*-\n",
    "list1=[123,456]\n",
    "tuple1=('两点水','twowater','liangdianshui',list1)\n",
    "print(tuple1)\n",
    "list1[0]=789\n",
    "list1[1]=100\n",
    "print(tuple1)"
   ]
  },
  {
   "cell_type": "markdown",
   "metadata": {},
   "source": [
    "## 5、删除tuple\n",
    "tuple 元组中的元素值是不允许删除的，但我们可以使用 del 语句来删除整个元组"
   ]
  },
  {
   "cell_type": "code",
   "execution_count": null,
   "metadata": {},
   "outputs": [],
   "source": [
    "#-*-coding:utf-8-*-\n",
    "\n",
    "tuple1=('两点水','twowter','liangdianshui',[123,456])\n",
    "print(tuple1)\n",
    "del tuple1\n",
    "print(tuple1)"
   ]
  },
  {
   "cell_type": "markdown",
   "metadata": {},
   "source": [
    "## 6、tuple运算符\n",
    "与字符串一样，元组之间可以使用 `+` 号和 `*` 号进行运算。这就意味着他们可以组合和复制，运算后会生成一个新的元组。\n",
    "\n",
    "|Python 表达式|结果|描述|\n",
    "|-----------|-----|-----|\n",
    "|len((1, 2, 3))|3|计算元素个数|\n",
    "|(1, 2, 3) + (4, 5, 6)|(1, 2, 3, 4, 5, 6)|连接|\n",
    "|('Hi!',) * 4|('Hi!', 'Hi!', 'Hi!', 'Hi!')|复制|\n",
    "|3 in (1, 2, 3)|True|元素是否存在|\n",
    "|for x in (1, 2, 3):  print(x)|1 2 3|迭代|\n",
    "## 7、元组内置函数 ##\n",
    "\n",
    "|方法|描述|\n",
    "|----|----|\n",
    "|len(tuple)|计算元组元素个数|\n",
    "|max(tuple)|返回元组中元素最大值|\n",
    "|min(tuple)|返回元组中元素最小值|\n",
    "|tuple(seq)|将列表转换为元组|"
   ]
  },
  {
   "cell_type": "markdown",
   "metadata": {},
   "source": [
    "## 8、实例 ##\n",
    "\n",
    "最后跟列表一样，来一个实例，大家也可以多尝试，去把元组的各种玩法玩一遍。\n"
   ]
  },
  {
   "cell_type": "code",
   "execution_count": 38,
   "metadata": {},
   "outputs": [
    {
     "name": "stdout",
     "output_type": "stream",
     "text": [
      "5\n",
      "('一点水', '两点水', '三点水', '四点水', '五点水', '1点水', '2点水', '3点水', '4点水', '5点水')\n",
      "('一点水', '两点水', '三点水', '四点水', '五点水', '一点水', '两点水', '三点水', '四点水', '五点水')\n",
      "True\n",
      "5点水\n",
      "1点水\n",
      "(1, 2, 3, 4, 5)\n"
     ]
    }
   ],
   "source": [
    "name1 = ('一点水', '两点水', '三点水', '四点水', '五点水')\n",
    "\n",
    "name2 = ('1点水', '2点水', '3点水', '4点水', '5点水')\n",
    "\n",
    "list1 = [1, 2, 3, 4, 5]\n",
    "\n",
    "# 计算元素个数\n",
    "print(len(name1))\n",
    "# 连接,两个元组相加\n",
    "print(name1 + name2)\n",
    "# 复制元组\n",
    "print(name1 * 2)\n",
    "# 元素是否存在 (name1 这个元组中是否含有一点水这个元素)\n",
    "print('一点水' in name1)\n",
    "# 元素的最大值\n",
    "print(max(name2))\n",
    "# 元素的最小值\n",
    "print(min(name2))\n",
    "# 将列表转换为元组\n",
    "print(tuple(list1))"
   ]
  },
  {
   "cell_type": "markdown",
   "metadata": {},
   "source": [
    "# 九、字典(Dictionary)\n",
    "## dict （字典） 的函数和方法 ##\n",
    "\n",
    "|方法和函数|描述|\n",
    "|---------|--------|\n",
    "|len(dict)|计算字典元素个数|\n",
    "|str(dict)|输出字典可打印的字符串表示|\n",
    "|type(variable)|返回输入的变量类型，如果变量是字典就返回字典类型|\n",
    "|dict.clear()|删除字典内所有元素|\n",
    "|dict.copy()|返回一个字典的浅复制|\n",
    "|dict.values()|以列表返回字典中的所有值|\n",
    "|popitem()|随机返回并删除字典中的一对键和值|\n",
    "|dict.items()|以列表返回可遍历的(键, 值) 元组数组|"
   ]
  },
  {
   "cell_type": "code",
   "execution_count": 18,
   "metadata": {},
   "outputs": [
    {
     "name": "stdout",
     "output_type": "stream",
     "text": [
      "3\n",
      "{'liangdianshui': '111111', 'twowater': '222222', '两点水': '333333'}\n",
      "<class 'dict'>\n",
      "{'liangdianshui': '111111', 'twowater': '222222', '两点水': '333333'}\n",
      "{'liangdianshui': '111111', 'twowater': '222222', '两点水': '333333', 'jack': '444444'}\n",
      "{'liangdianshui': '555555', 'twowater': '222222', '两点水': '333333', 'jack': '444444'}\n",
      "{}\n"
     ]
    }
   ],
   "source": [
    "#-*-coding:utf-8-*-\n",
    "dict1={'liangdianshui':'111111' ,'twowater':'222222' ,'两点水':'333333'}\n",
    "print(len(dict1))\n",
    "print(str(dict1))\n",
    "print(type(dict1))\n",
    "print(dict1)\n",
    "# 新增一个键值对\n",
    "dict1['jack']='444444'\n",
    "print(dict1)\n",
    "# 修改键值对\n",
    "dict1['liangdianshui']='555555'\n",
    "print(dict1)\n",
    "# 删除字典中的所有元素\n",
    "dict1.clear()\n",
    "print(dict1)\n",
    "# 删除字典\n",
    "del dict1"
   ]
  },
  {
   "cell_type": "markdown",
   "metadata": {},
   "source": [
    "# 十、Set\n",
    "因为 set 是一个无序不重复元素集，因此，两个 set 可以做数学意义上的 union(并集), intersection(交集), difference(差集) 等操作。"
   ]
  },
  {
   "cell_type": "code",
   "execution_count": null,
   "metadata": {},
   "outputs": [],
   "source": [
    "set1=set([123,456,789,123,123])\n",
    "print(set1)\n",
    "set2=set([123,456,789])\n",
    "print(set2)\n",
    "set2.add(100)\n",
    "print(set2)\n",
    "set2.add(100)\n",
    "print(set2)\n",
    "set2.remove(456)\n",
    "print(set2)"
   ]
  },
  {
   "cell_type": "code",
   "execution_count": null,
   "metadata": {},
   "outputs": [],
   "source": [
    "set1=set('hello')\n",
    "set2=set(['p','y','y','h','o','n'])\n",
    "print(set1)\n",
    "print(set2)\n",
    "\n",
    "# 交集 (求两个 set 集合中相同的元素)\n",
    "set3=set1 & set2\n",
    "print('\\n交集 set3:')\n",
    "print(set3)\n",
    "# 并集 （合并两个 set 集合的元素并去除重复的值）\n",
    "set4=set1 | set2\n",
    "print('\\n并集 set4:')\n",
    "print(set4)\n",
    "# 差集\n",
    "set5=set1 - set2\n",
    "set6=set2 - set1\n",
    "print('\\n差集 set5:')\n",
    "print(set5)\n",
    "print('\\n差集 set6:')\n",
    "print( set6)\n",
    "\n",
    "\n",
    "# 去除海量列表里重复元素，用 hash 来解决也行，只不过感觉在性能上不是很高，用 set 解决还是很不错的\n",
    "list1 = [111,222,333,444,111,222,333,444,555,666]  \n",
    "set7=set(list1)\n",
    "print('\\n去除列表里重复元素 set7:')\n",
    "print(set7)\n"
   ]
  }
 ],
 "metadata": {
  "kernelspec": {
   "display_name": "venv",
   "language": "python",
   "name": "python3"
  },
  "language_info": {
   "codemirror_mode": {
    "name": "ipython",
    "version": 3
   },
   "file_extension": ".py",
   "mimetype": "text/x-python",
   "name": "python",
   "nbconvert_exporter": "python",
   "pygments_lexer": "ipython3",
   "version": "3.13.0"
  }
 },
 "nbformat": 4,
 "nbformat_minor": 2
}
